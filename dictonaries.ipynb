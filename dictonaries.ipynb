{
 "cells": [
  {
   "cell_type": "code",
   "execution_count": 1,
   "id": "47eaeabc",
   "metadata": {},
   "outputs": [
    {
     "name": "stdout",
     "output_type": "stream",
     "text": [
      "<class 'dict'>\n"
     ]
    }
   ],
   "source": [
    "# Creating Dictionary\n",
    "empty_dict = {}\n",
    "print(type(empty_dict))\n"
   ]
  },
  {
   "cell_type": "code",
   "execution_count": 2,
   "id": "f835fba4",
   "metadata": {},
   "outputs": [
    {
     "data": {
      "text/plain": [
       "{}"
      ]
     },
     "execution_count": 2,
     "metadata": {},
     "output_type": "execute_result"
    }
   ],
   "source": [
    "empty_dict = dict()\n",
    "empty_dict"
   ]
  },
  {
   "cell_type": "code",
   "execution_count": 5,
   "id": "59721020",
   "metadata": {},
   "outputs": [
    {
     "name": "stdout",
     "output_type": "stream",
     "text": [
      "{'name': 'Rajib', 'age': '27', 'grade': 'A'}\n",
      "<class 'type'>\n"
     ]
    }
   ],
   "source": [
    "student = {\"name\":\"Rajib\",\"age\":\"27\",\"grade\":\"A\"}\n",
    "print(student)\n",
    "print(type(dict))"
   ]
  },
  {
   "cell_type": "code",
   "execution_count": 6,
   "id": "5abba98d",
   "metadata": {},
   "outputs": [
    {
     "name": "stdout",
     "output_type": "stream",
     "text": [
      "{'name': 'A', 'age': '27'}\n"
     ]
    }
   ],
   "source": [
    "student = {\"name\":\"Rajib\",\"age\":\"27\",\"name\":\"A\"}\n",
    "print(student)"
   ]
  },
  {
   "cell_type": "code",
   "execution_count": 13,
   "id": "4058766a",
   "metadata": {},
   "outputs": [
    {
     "name": "stdout",
     "output_type": "stream",
     "text": [
      "Rajib\n",
      "27\n",
      "27\n",
      "None\n",
      "Not Available\n"
     ]
    }
   ],
   "source": [
    "# Accessing Dictionary Elements\n",
    "student = {\"name\":\"Rajib\",\"age\":\"27\",\"Grade\":\"A\"}\n",
    "print(student['name'])\n",
    "print(student['age'])\n",
    "\n",
    "print(student.get('age'))\n",
    "print(student.get('last_name'))\n",
    "print(student.get('last_name','Not Available'))"
   ]
  },
  {
   "cell_type": "code",
   "execution_count": 17,
   "id": "42d57829",
   "metadata": {},
   "outputs": [
    {
     "name": "stdout",
     "output_type": "stream",
     "text": [
      "{'name': 'Rajib', 'age': 33, 'Grade': 'A', 'address': 'India'}\n",
      "{'name': 'Rajib', 'age': 33, 'Grade': 'A', 'address': 'India'}\n"
     ]
    }
   ],
   "source": [
    "student['age'] = 33\n",
    "print(student)\n",
    "student['address'] = \"India\"\n",
    "print(student)"
   ]
  },
  {
   "cell_type": "code",
   "execution_count": 19,
   "id": "46a5933f",
   "metadata": {},
   "outputs": [
    {
     "name": "stdout",
     "output_type": "stream",
     "text": [
      "{'name': 'Rajib', 'age': 33, 'address': 'India'}\n"
     ]
    }
   ],
   "source": [
    "del student['Grade']\n",
    "print(student)"
   ]
  },
  {
   "cell_type": "code",
   "execution_count": 21,
   "id": "52f57600",
   "metadata": {},
   "outputs": [
    {
     "name": "stdout",
     "output_type": "stream",
     "text": [
      "dict_keys(['name', 'age', 'address'])\n",
      "dict_values(['Rajib', 33, 'India'])\n",
      "dict_items([('name', 'Rajib'), ('age', 33), ('address', 'India')])\n"
     ]
    }
   ],
   "source": [
    "## Dictionary Mehods\n",
    "keys = student.keys() # All Keys\n",
    "print(keys)\n",
    "values = student.values() #All Values\n",
    "print(values)\n",
    "items = student.items()\n",
    "print(items) # All Items"
   ]
  },
  {
   "cell_type": "code",
   "execution_count": null,
   "id": "fac21fb0",
   "metadata": {},
   "outputs": [
    {
     "name": "stdout",
     "output_type": "stream",
     "text": [
      "{'name': 'Rajib', 'age': 33, 'address': 'India'}\n",
      "{'name': 'Rajib', 'age': 33, 'address': 'India'}\n"
     ]
    }
   ],
   "source": [
    "student_copy = student\n",
    "print(student)\n",
    "print(student_copy)"
   ]
  },
  {
   "cell_type": "code",
   "execution_count": 24,
   "id": "1bed4df0",
   "metadata": {},
   "outputs": [
    {
     "name": "stdout",
     "output_type": "stream",
     "text": [
      "{'name': 'Krish', 'age': 33, 'address': 'India'}\n",
      "{'name': 'Krish', 'age': 33, 'address': 'India'}\n"
     ]
    }
   ],
   "source": [
    "student_copy['name'] = \"Krish\"\n",
    "print(student)\n",
    "print(student_copy)"
   ]
  },
  {
   "cell_type": "code",
   "execution_count": 29,
   "id": "7630206f",
   "metadata": {},
   "outputs": [
    {
     "name": "stdout",
     "output_type": "stream",
     "text": [
      "{'name': 'Krish', 'age': 33, 'address': 'India'}\n",
      "{'name': 'Krish', 'age': 33, 'address': 'India'}\n"
     ]
    }
   ],
   "source": [
    "student_copy1 = student.copy()\n",
    "student['name'] = \"Krish\"\n",
    "print(student)\n",
    "print(student_copy1)\n"
   ]
  },
  {
   "cell_type": "code",
   "execution_count": 26,
   "id": "18656033",
   "metadata": {},
   "outputs": [
    {
     "name": "stdout",
     "output_type": "stream",
     "text": [
      "{'name': 'Krish', 'age': 33, 'address': 'India'}\n",
      "{'name': 'Krish', 'age': 33, 'address': 'India'}\n"
     ]
    }
   ],
   "source": [
    "student_copy['name'] = \"Krish\"\n",
    "print(student)\n",
    "print(student_copy)"
   ]
  },
  {
   "cell_type": "code",
   "execution_count": 31,
   "id": "e9df5702",
   "metadata": {},
   "outputs": [
    {
     "name": "stdout",
     "output_type": "stream",
     "text": [
      "name\n",
      "age\n",
      "address\n"
     ]
    }
   ],
   "source": [
    "# Iterating Over Dictionaries\n",
    "# You can use loops to iterate\n",
    "\n",
    "for key in student.keys():\n",
    "    print(key)\n"
   ]
  },
  {
   "cell_type": "code",
   "execution_count": 32,
   "id": "fedb34d6",
   "metadata": {},
   "outputs": [
    {
     "name": "stdout",
     "output_type": "stream",
     "text": [
      "Krish\n",
      "33\n",
      "India\n"
     ]
    }
   ],
   "source": [
    "# Iterate over values\n",
    "for value in student.values():\n",
    "    print(value)\n",
    "    "
   ]
  },
  {
   "cell_type": "code",
   "execution_count": null,
   "id": "f37ccc08",
   "metadata": {},
   "outputs": [
    {
     "name": "stdout",
     "output_type": "stream",
     "text": [
      "name,Krish\n",
      "age,33\n",
      "address,India\n"
     ]
    }
   ],
   "source": [
    "# Iterate over key, value pairs\n",
    "for key, value in student.items():\n",
    "    print(f\"{key},{value}\")"
   ]
  },
  {
   "cell_type": "code",
   "execution_count": null,
   "id": "55de353d",
   "metadata": {},
   "outputs": [
    {
     "name": "stdout",
     "output_type": "stream",
     "text": [
      "{'student1': {'name': 'Rajib', 'age': 27}, 'student2': {'name': 'Peter', 'age': 35}}\n"
     ]
    }
   ],
   "source": [
    "# Nested Dictionaries\n",
    "student = {\n",
    "    \"student1\": {\"name\":\"Rajib\",\"age\":27},\n",
    "    \"student2\":{\"name\":\"Peter\",\"age\":35}\n",
    "}\n",
    "\n",
    "print(student)"
   ]
  },
  {
   "cell_type": "code",
   "execution_count": 35,
   "id": "432fcc02",
   "metadata": {},
   "outputs": [
    {
     "name": "stdout",
     "output_type": "stream",
     "text": [
      "Rajib\n",
      "27\n"
     ]
    }
   ],
   "source": [
    "## Access Nested Dictionary elements\n",
    "print(student[\"student1\"][\"name\"])\n",
    "print(student[\"student1\"][\"age\"])"
   ]
  },
  {
   "cell_type": "code",
   "execution_count": 36,
   "id": "5232ca25",
   "metadata": {},
   "outputs": [
    {
     "name": "stdout",
     "output_type": "stream",
     "text": [
      "student1:{'name': 'Rajib', 'age': 27}\n",
      "name:Rajib\n",
      "age:27\n",
      "student2:{'name': 'Peter', 'age': 35}\n",
      "name:Peter\n",
      "age:35\n"
     ]
    }
   ],
   "source": [
    "for student_id,student_info in student.items():\n",
    "    print(f\"{student_id}:{student_info}\")\n",
    "    for key,value in student_info.items():\n",
    "        print(f\"{key}:{value}\")"
   ]
  },
  {
   "cell_type": "code",
   "execution_count": null,
   "id": "73419107",
   "metadata": {},
   "outputs": [
    {
     "name": "stdout",
     "output_type": "stream",
     "text": [
      "{0: 0, 1: 1, 2: 4, 3: 9, 4: 16}\n"
     ]
    }
   ],
   "source": [
    "## Dictionary Comprehension\n",
    "squares = {x:x**2 for x in range(5)}\n",
    "print(squares)"
   ]
  },
  {
   "cell_type": "code",
   "execution_count": 40,
   "id": "36a772eb",
   "metadata": {},
   "outputs": [
    {
     "name": "stdout",
     "output_type": "stream",
     "text": [
      "{0: 0, 2: 4, 4: 16, 6: 36, 8: 64}\n"
     ]
    }
   ],
   "source": [
    "## Condition Dictionary Comprehension\n",
    "evens = {x:x**2 for x in range(10) if x%2==0}\n",
    "print(evens)"
   ]
  },
  {
   "cell_type": "code",
   "execution_count": 41,
   "id": "ee9f59e9",
   "metadata": {},
   "outputs": [
    {
     "name": "stdout",
     "output_type": "stream",
     "text": [
      "{1: 1, 2: 1, 3: 3, 4: 2, 5: 1}\n"
     ]
    }
   ],
   "source": [
    "## Practical Example\n",
    "\n",
    "## Counting frequency of numbers in a list\n",
    "\n",
    "numbers = [1,2,3,3,3,4,4,5]\n",
    "\n",
    "frequency = {}\n",
    "\n",
    "for number in numbers:\n",
    "    if number in frequency:\n",
    "        frequency[number] += 1\n",
    "    else:\n",
    "        frequency[number] = 1\n",
    "\n",
    "\n",
    "print(frequency)\n"
   ]
  },
  {
   "cell_type": "code",
   "execution_count": 42,
   "id": "ad80a6af",
   "metadata": {},
   "outputs": [
    {
     "name": "stdout",
     "output_type": "stream",
     "text": [
      "{'a': 1, 'b': 3, 'c': 4}\n"
     ]
    }
   ],
   "source": [
    "dict1 = {\"a\":1,\"b\":2}\n",
    "dict2 = {\"b\":3,\"c\":4}\n",
    "merged_dict = {**dict1,**dict2}\n",
    "print(merged_dict)"
   ]
  }
 ],
 "metadata": {
  "kernelspec": {
   "display_name": "Python 3",
   "language": "python",
   "name": "python3"
  },
  "language_info": {
   "codemirror_mode": {
    "name": "ipython",
    "version": 3
   },
   "file_extension": ".py",
   "mimetype": "text/x-python",
   "name": "python",
   "nbconvert_exporter": "python",
   "pygments_lexer": "ipython3",
   "version": "3.10.0"
  }
 },
 "nbformat": 4,
 "nbformat_minor": 5
}
